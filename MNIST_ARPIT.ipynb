{
  "nbformat": 4,
  "nbformat_minor": 0,
  "metadata": {
    "colab": {
      "provenance": []
    },
    "kernelspec": {
      "name": "python3",
      "display_name": "Python 3"
    },
    "language_info": {
      "name": "python"
    }
  },
  "cells": [
    {
      "cell_type": "code",
      "execution_count": 55,
      "metadata": {
        "id": "yLJDzb0WUfaW"
      },
      "outputs": [],
      "source": [
        "#importing libraries\n",
        "import tensorflow as tf\n",
        "from keras.datasets import mnist\n",
        "import matplotlib.pyplot as plt\n",
        "from sklearn.model_selection import train_test_split\n",
        "import numpy as np\n",
        "from sklearn.preprocessing import StandardScaler\n",
        "from sklearn.svm import SVC\n",
        "from sklearn.linear_model import LogisticRegression\n",
        "from sklearn.ensemble import RandomForestClassifier\n",
        "from sklearn.tree import DecisionTreeClassifier\n",
        "from sklearn.neighbors import KNeighborsClassifier\n",
        "from sklearn.metrics import accuracy_score, precision_score, recall_score, f1_score, confusion_matrix"
      ]
    },
    {
      "cell_type": "code",
      "source": [
        "# Load MNIST dataset\n",
        "mnist = tf.keras.datasets.mnist #with help of tensorflow framework i am loading the dataset\n",
        "(x_train, y_train), (x_test, y_test) = mnist.load_data()"
      ],
      "metadata": {
        "id": "q9xpbBPWVY33"
      },
      "execution_count": 56,
      "outputs": []
    },
    {
      "cell_type": "code",
      "source": [
        "x_train"
      ],
      "metadata": {
        "colab": {
          "base_uri": "https://localhost:8080/"
        },
        "id": "q2PHkP0lLvt1",
        "outputId": "34620c0a-bd24-44f0-af19-8bc306b7b56b"
      },
      "execution_count": 57,
      "outputs": [
        {
          "output_type": "execute_result",
          "data": {
            "text/plain": [
              "array([[[0, 0, 0, ..., 0, 0, 0],\n",
              "        [0, 0, 0, ..., 0, 0, 0],\n",
              "        [0, 0, 0, ..., 0, 0, 0],\n",
              "        ...,\n",
              "        [0, 0, 0, ..., 0, 0, 0],\n",
              "        [0, 0, 0, ..., 0, 0, 0],\n",
              "        [0, 0, 0, ..., 0, 0, 0]],\n",
              "\n",
              "       [[0, 0, 0, ..., 0, 0, 0],\n",
              "        [0, 0, 0, ..., 0, 0, 0],\n",
              "        [0, 0, 0, ..., 0, 0, 0],\n",
              "        ...,\n",
              "        [0, 0, 0, ..., 0, 0, 0],\n",
              "        [0, 0, 0, ..., 0, 0, 0],\n",
              "        [0, 0, 0, ..., 0, 0, 0]],\n",
              "\n",
              "       [[0, 0, 0, ..., 0, 0, 0],\n",
              "        [0, 0, 0, ..., 0, 0, 0],\n",
              "        [0, 0, 0, ..., 0, 0, 0],\n",
              "        ...,\n",
              "        [0, 0, 0, ..., 0, 0, 0],\n",
              "        [0, 0, 0, ..., 0, 0, 0],\n",
              "        [0, 0, 0, ..., 0, 0, 0]],\n",
              "\n",
              "       ...,\n",
              "\n",
              "       [[0, 0, 0, ..., 0, 0, 0],\n",
              "        [0, 0, 0, ..., 0, 0, 0],\n",
              "        [0, 0, 0, ..., 0, 0, 0],\n",
              "        ...,\n",
              "        [0, 0, 0, ..., 0, 0, 0],\n",
              "        [0, 0, 0, ..., 0, 0, 0],\n",
              "        [0, 0, 0, ..., 0, 0, 0]],\n",
              "\n",
              "       [[0, 0, 0, ..., 0, 0, 0],\n",
              "        [0, 0, 0, ..., 0, 0, 0],\n",
              "        [0, 0, 0, ..., 0, 0, 0],\n",
              "        ...,\n",
              "        [0, 0, 0, ..., 0, 0, 0],\n",
              "        [0, 0, 0, ..., 0, 0, 0],\n",
              "        [0, 0, 0, ..., 0, 0, 0]],\n",
              "\n",
              "       [[0, 0, 0, ..., 0, 0, 0],\n",
              "        [0, 0, 0, ..., 0, 0, 0],\n",
              "        [0, 0, 0, ..., 0, 0, 0],\n",
              "        ...,\n",
              "        [0, 0, 0, ..., 0, 0, 0],\n",
              "        [0, 0, 0, ..., 0, 0, 0],\n",
              "        [0, 0, 0, ..., 0, 0, 0]]], dtype=uint8)"
            ]
          },
          "metadata": {},
          "execution_count": 57
        }
      ]
    },
    {
      "cell_type": "code",
      "source": [
        "y_train"
      ],
      "metadata": {
        "colab": {
          "base_uri": "https://localhost:8080/"
        },
        "id": "QXhmNJzMMTEV",
        "outputId": "6fb7d56e-118d-4612-99a1-4924a215e061"
      },
      "execution_count": 58,
      "outputs": [
        {
          "output_type": "execute_result",
          "data": {
            "text/plain": [
              "array([5, 0, 4, ..., 5, 6, 8], dtype=uint8)"
            ]
          },
          "metadata": {},
          "execution_count": 58
        }
      ]
    },
    {
      "cell_type": "code",
      "source": [
        "#normalizing the  pixel values\n",
        "x_train, x_test = x_train / 255.0, x_test / 255.0"
      ],
      "metadata": {
        "id": "ZY4KD-J0YTY9"
      },
      "execution_count": 59,
      "outputs": []
    },
    {
      "cell_type": "code",
      "source": [
        "# Reshape images\n",
        "x_train = x_train.reshape(-1, 28*28)\n",
        "x_test = x_test.reshape(-1, 28*28)"
      ],
      "metadata": {
        "id": "BdWj05nVNe_N"
      },
      "execution_count": 60,
      "outputs": []
    },
    {
      "cell_type": "code",
      "source": [
        "x_train"
      ],
      "metadata": {
        "colab": {
          "base_uri": "https://localhost:8080/"
        },
        "id": "kQb6PvTkN2op",
        "outputId": "28df0adb-e0fc-41f9-96cd-ae54612fdfc0"
      },
      "execution_count": 61,
      "outputs": [
        {
          "output_type": "execute_result",
          "data": {
            "text/plain": [
              "array([[0., 0., 0., ..., 0., 0., 0.],\n",
              "       [0., 0., 0., ..., 0., 0., 0.],\n",
              "       [0., 0., 0., ..., 0., 0., 0.],\n",
              "       ...,\n",
              "       [0., 0., 0., ..., 0., 0., 0.],\n",
              "       [0., 0., 0., ..., 0., 0., 0.],\n",
              "       [0., 0., 0., ..., 0., 0., 0.]])"
            ]
          },
          "metadata": {},
          "execution_count": 61
        }
      ]
    },
    {
      "cell_type": "code",
      "source": [
        "x_test"
      ],
      "metadata": {
        "colab": {
          "base_uri": "https://localhost:8080/"
        },
        "id": "r0NvVgq0N4_5",
        "outputId": "5b108b52-01bb-48e5-8db0-8974ca39fef8"
      },
      "execution_count": 62,
      "outputs": [
        {
          "output_type": "execute_result",
          "data": {
            "text/plain": [
              "array([[0., 0., 0., ..., 0., 0., 0.],\n",
              "       [0., 0., 0., ..., 0., 0., 0.],\n",
              "       [0., 0., 0., ..., 0., 0., 0.],\n",
              "       ...,\n",
              "       [0., 0., 0., ..., 0., 0., 0.],\n",
              "       [0., 0., 0., ..., 0., 0., 0.],\n",
              "       [0., 0., 0., ..., 0., 0., 0.]])"
            ]
          },
          "metadata": {},
          "execution_count": 62
        }
      ]
    },
    {
      "cell_type": "code",
      "source": [
        "#displaying the images with their labels\n",
        "plt.figure(figsize=(9, 5))\n",
        "\n",
        "for i in range(15):\n",
        "    plt.subplot(4, 4, i + 1)\n",
        "    plt.imshow(x_train[i].reshape(28,28), cmap='gray')\n",
        "    plt.title(f\"Label: {y_train[i]}\")\n",
        "    plt.axis('off')\n",
        "\n",
        "plt.tight_layout()\n",
        "plt.show()"
      ],
      "metadata": {
        "colab": {
          "base_uri": "https://localhost:8080/",
          "height": 507
        },
        "id": "ZN5iwO05YjJl",
        "outputId": "7f620011-444c-44cb-8d89-2c6468fae9b2"
      },
      "execution_count": 63,
      "outputs": [
        {
          "output_type": "display_data",
          "data": {
            "text/plain": [
              "<Figure size 900x500 with 15 Axes>"
            ],
            "image/png": "[encoded data removed]"
          },
          "metadata": {}
        }
      ]
    },
    {
      "cell_type": "code",
      "source": [
        "# Data splitting\n",
        "splits = [(0.8, 0.2), (0.5, 0.5), (0.2, 0.8), (0.01, 0.99)] #taking list of tuple and splliting data according we need\n",
        "\n",
        "for split in splits:\n",
        "  X_train, X_test, Y_train, Y_test = train_test_split(x_train, y_train, test_size=split[1], random_state=42)\n",
        "\n",
        "  #Standardization\n",
        "  scaler = StandardScaler()\n",
        "  X_train_scaled = scaler.fit_transform(X_train)\n",
        "  X_test_scaled = scaler.transform(X_test)\n",
        "\n",
        "\n",
        "\n",
        "  # Model selection, training, and evaluation\n",
        "  models = [LogisticRegression(max_iter=1000), SVC(), RandomForestClassifier(),DecisionTreeClassifier(),KNeighborsClassifier()]\n",
        "  for model in models:\n",
        "    model.fit(X_train_scaled, Y_train) #fitting model\n",
        "    y_pred = model.predict(X_test_scaled)\n",
        "    print(f'Model: {model.__class__.__name__}, Split: {split}')\n",
        "    print('Accuracy:', accuracy_score(Y_test, y_pred))\n",
        "    print('Precision:', precision_score(Y_test, y_pred,average='macro'))\n",
        "    print('Recall:', recall_score(Y_test, y_pred, average='macro'))\n",
        "    print('F1-score:', f1_score(Y_test, y_pred, average='macro'))\n",
        "    print('Confusion Matrix:\\n', confusion_matrix(Y_test, y_pred))"
      ],
      "metadata": {
        "colab": {
          "base_uri": "https://localhost:8080/"
        },
        "id": "wrB5LYedTby3",
        "outputId": "a1042343-7531-4ee9-c9ba-43657a1117e4"
      },
      "execution_count": 64,
      "outputs": [
        {
          "output_type": "stream",
          "name": "stdout",
          "text": [
            "Model: LogisticRegression, Split: (0.8, 0.2)\n",
            "Accuracy: 0.9150833333333334\n",
            "Precision: 0.9142200966489599\n",
            "Recall: 0.9142515622051117\n",
            "F1-score: 0.9141856233785814\n",
            "Confusion Matrix:\n",
            " [[1126    0    6    2    3    9   12    7    5    5]\n",
            " [   0 1279    8    8    2    6    1    0   14    4]\n",
            " [   3   22 1036   17   12    8   24   21   26    5]\n",
            " [   5    5   39 1085    2   36    1   13   20   13]\n",
            " [   1    3    6    3 1100    4   11    3    9   36]\n",
            " [  14    4   16   33   13  969   12    4   30    9]\n",
            " [  10    2   24    2    8   13 1112    2    4    0]\n",
            " [   4    8   21   12   17    4    0 1186    6   41]\n",
            " [  13   17   15   35    7   35   14    5 1002   17]\n",
            " [   5    4    6   11   27    8    0   37   10 1086]]\n",
            "Model: SVC, Split: (0.8, 0.2)\n",
            "Accuracy: 0.9635\n",
            "Precision: 0.963923670252681\n",
            "Recall: 0.9632505125585531\n",
            "F1-score: 0.9635098798935161\n",
            "Confusion Matrix:\n",
            " [[1152    0    3    0    2    5   10    1    2    0]\n",
            " [   0 1298   11    4    1    0    2    3    1    2]\n",
            " [   1    7 1128    9    6    0    5   11    5    2]\n",
            " [   0    2   22 1155    1    9    1   16    9    4]\n",
            " [   1    1    6    0 1141    1    2    6    1   17]\n",
            " [   5    2    3   19    3 1053    8    7    4    0]\n",
            " [   4    1    4    0    3    4 1145   12    4    0]\n",
            " [   2    7   11    3    7    0    0 1255    3   11]\n",
            " [   2    5    9    9    6   11    2    9 1103    4]\n",
            " [   3    2    4    4   13    4    0   29    3 1132]]\n",
            "Model: RandomForestClassifier, Split: (0.8, 0.2)\n",
            "Accuracy: 0.9666666666666667\n",
            "Precision: 0.9665207200542947\n",
            "Recall: 0.9665379925867954\n",
            "F1-score: 0.9664944952407486\n",
            "Confusion Matrix:\n",
            " [[1155    0    2    2    3    2    1    0    9    1]\n",
            " [   0 1303    8    5    2    0    1    1    0    2]\n",
            " [   1    6 1142    4    4    0    2    9    4    2]\n",
            " [   2    0   23 1154    0   10    1    7   11   11]\n",
            " [   2    0    1    1 1141    0    5    4    0   22]\n",
            " [   7    3    2   12    1 1063    6    1    6    3]\n",
            " [   6    0    1    0    2    6 1157    0    5    0]\n",
            " [   0   10   15    0    6    0    0 1251    7   10]\n",
            " [   2    3   10   10    8    9    4    3 1107    4]\n",
            " [   6    2    5   12   17    5    2   13    5 1127]]\n",
            "Model: DecisionTreeClassifier, Split: (0.8, 0.2)\n",
            "Accuracy: 0.8683333333333333\n",
            "Precision: 0.8667267887195829\n",
            "Recall: 0.8664823684614339\n",
            "F1-score: 0.8664949835080259\n",
            "Confusion Matrix:\n",
            " [[1077    2   14    5    4   24   24    8   11    6]\n",
            " [   1 1269    9    6    7    8    5    4   10    3]\n",
            " [  18   14 1004   24   18   10   11   26   37   12]\n",
            " [  15   12   34 1014    7   55    9   18   25   30]\n",
            " [   2    7   15    5 1014   11   13   16   22   71]\n",
            " [  14   13   14   56   16  900   33    7   30   21]\n",
            " [  15   11   22    7   25   20 1045    4   24    4]\n",
            " [   5   13   23   20   14    3    1 1183    9   28]\n",
            " [  16   18   40   49   29   31   20   19  907   31]\n",
            " [   5   12   10   16   50   20    8   37   29 1007]]\n",
            "Model: KNeighborsClassifier, Split: (0.8, 0.2)\n",
            "Accuracy: 0.9458333333333333\n",
            "Precision: 0.9460814744279522\n",
            "Recall: 0.9451231908487088\n",
            "F1-score: 0.945300447319797\n",
            "Confusion Matrix:\n",
            " [[1156    0    3    2    1    2    9    1    0    1]\n",
            " [   0 1310    8    0    2    0    1    1    0    0]\n",
            " [  10   12 1096   19    4    2   11   12    5    3]\n",
            " [   2    1   16 1159    0   19    2    8    6    6]\n",
            " [   2   13   14    1 1098    1    3    5    0   39]\n",
            " [   8    2    3   37    6 1015   16    1   10    6]\n",
            " [  10    3    3    0    1    8 1152    0    0    0]\n",
            " [   2   19    6    4   10    0    0 1218    1   39]\n",
            " [  11   13    9   25   11   38    4    6 1033   10]\n",
            " [   5    0    9    8   21    3    0   32    3 1113]]\n",
            "Model: LogisticRegression, Split: (0.5, 0.5)\n",
            "Accuracy: 0.9015\n",
            "Precision: 0.900345844952516\n",
            "Recall: 0.9002599493500627\n",
            "F1-score: 0.9002434323224872\n",
            "Confusion Matrix:\n",
            " [[2781    1   29    9    9   47   33    9   30    8]\n",
            " [   1 3205   27   22    6   17    2    6   36    7]\n",
            " [  22   40 2556   63   38   16   57   45   63   20]\n",
            " [  14   21   86 2680    8  106   12   35   69   46]\n",
            " [  14   16   34    6 2675    7   26   24   25  103]\n",
            " [  36   19   25  100   28 2377   49   13   85   35]\n",
            " [  13    7   40    8   24   50 2861    4   15    0]\n",
            " [  14   12   49   29   56   11    1 2852    9  125]\n",
            " [  22   53   57   99   20   99   39   13 2406   48]\n",
            " [  15    9   10   34  104   26    0  111   24 2652]]\n",
            "Model: SVC, Split: (0.5, 0.5)\n",
            "Accuracy: 0.9573\n",
            "Precision: 0.9575768260027671\n",
            "Recall: 0.9568911205109446\n",
            "F1-score: 0.9571344949189328\n",
            "Confusion Matrix:\n",
            " [[2884    2   16    2    4    6   22    6   13    1]\n",
            " [   0 3263   27    9    5    0    3   10    7    5]\n",
            " [   5    9 2790   29   11    4   19   31   14    8]\n",
            " [   2    7   50 2890    1   30    3   49   33   12]\n",
            " [   1    8   26    0 2818    1   14   17    4   41]\n",
            " [  10    6    8   44    6 2612   28   24   19   10]\n",
            " [   8    1   13    0    8   15 2936   35    6    0]\n",
            " [   5   17   25    5   28    1    0 3040    1   36]\n",
            " [   5   21   17   23   13   42   13   25 2683   14]\n",
            " [   8    6   13   26   49    5    0   67    8 2803]]\n",
            "Model: RandomForestClassifier, Split: (0.5, 0.5)\n",
            "Accuracy: 0.9627666666666667\n",
            "Precision: 0.9624582934719518\n",
            "Recall: 0.9624450712126617\n",
            "F1-score: 0.9624137471629053\n",
            "Confusion Matrix:\n",
            " [[2907    0    5    1    5    4   14    0   18    2]\n",
            " [   0 3266   22   15    7    4    4    5    4    2]\n",
            " [  10    6 2829   12   13    3   11   19   12    5]\n",
            " [   5    3   53 2893    2   40    3   27   36   15]\n",
            " [   4    6    3    1 2833    0   20    8    5   50]\n",
            " [  17    3    4   44    8 2627   25    2   26   11]\n",
            " [  11    3    2    0    8   18 2974    0    6    0]\n",
            " [   4   15   42    6   16    1    0 3035    4   35]\n",
            " [   3   17   23   34   22   31   11    1 2679   35]\n",
            " [  13    9    7   33   34    6    2   26   15 2840]]\n",
            "Model: DecisionTreeClassifier, Split: (0.5, 0.5)\n",
            "Accuracy: 0.8476666666666667\n",
            "Precision: 0.8456613500916751\n",
            "Recall: 0.845669393535973\n",
            "F1-score: 0.8456111378144536\n",
            "Confusion Matrix:\n",
            " [[2657    3   38   43   21   68   61   13   32   20]\n",
            " [   6 3141   33   25   18   21   17   19   41    8]\n",
            " [  48   42 2393   69   48   34   64   84  104   34]\n",
            " [  23   20  109 2479   28  149   27   57  121   64]\n",
            " [  26   23   41   18 2461   31   41   66   65  158]\n",
            " [  54   30   26  156   32 2216   77   28   70   78]\n",
            " [  44   19   44   27   59   84 2664    7   47   27]\n",
            " [   7   32   62   44   42   32    6 2812   36   85]\n",
            " [  34   54  110   83   62  100   77   47 2180  109]\n",
            " [  27   13   36   70  153   73   13   98   75 2427]]\n",
            "Model: KNeighborsClassifier, Split: (0.5, 0.5)\n",
            "Accuracy: 0.9367\n",
            "Precision: 0.9369182016561697\n",
            "Recall: 0.9356425665481714\n",
            "F1-score: 0.9359142416248212\n",
            "Confusion Matrix:\n",
            " [[2903    2    7    4    1    9   24    1    4    1]\n",
            " [   0 3295   16    1    3    1    7    3    1    2]\n",
            " [  28   43 2692   52   13    8   28   30   18    8]\n",
            " [   6    3   46 2874    2   53    7   38   28   20]\n",
            " [   2   36   34    3 2713    7   14    5    5  111]\n",
            " [  17    7    5   90   10 2532   53    8   19   26]\n",
            " [  24    5   15    0    6   18 2951    1    2    0]\n",
            " [   6   46   10    6   43    2    1 2928    2  114]\n",
            " [  19   49   26   75   22  125   16   14 2481   29]\n",
            " [  19    5   15   22   72    8    0  101   11 2732]]\n",
            "Model: LogisticRegression, Split: (0.2, 0.8)\n",
            "Accuracy: 0.8809583333333333\n",
            "Precision: 0.8793870372422863\n",
            "Recall: 0.8792699674452548\n",
            "F1-score: 0.8791989857445675\n",
            "Confusion Matrix:\n",
            " [[4525    1   44   12   20   47   35   13   37   17]\n",
            " [   1 5159   34   37    8   37    3   16   51    9]\n",
            " [  49   69 4023  158   55   40   96  108  114   30]\n",
            " [  27   31  202 4202   18  220   20   49  137   60]\n",
            " [  16   21   52   13 4195   20   63   43   43  237]\n",
            " [  86   26   47  220   42 3529   99   46  176   84]\n",
            " [  52    6   87   14   75   76 4367    1   28    5]\n",
            " [  19   23   63   61   99   13    3 4484   13  229]\n",
            " [  42   95  129  223   35  188   70   32 3712  121]\n",
            " [  24   24   38   66  175   52    5  226   63 4090]]\n",
            "Model: SVC, Split: (0.2, 0.8)\n",
            "Accuracy: 0.9413333333333334\n",
            "Precision: 0.9421283987766467\n",
            "Recall: 0.9407146579436534\n",
            "F1-score: 0.9411704114067405\n",
            "Confusion Matrix:\n",
            " [[4627    2   16    6    5   15   41   16   21    2]\n",
            " [   1 5248   27   17   10    6    6   21   13    6]\n",
            " [  22   22 4428   43   30    5   33  111   40    8]\n",
            " [   7   16  105 4540    4   77    6  128   60   23]\n",
            " [   4   12   63    0 4445    8   29   46    7   89]\n",
            " [  20   11   19   95   14 4005   73   64   32   22]\n",
            " [  23    4   19    1   11   38 4502  105    8    0]\n",
            " [  13   26   39   13   58    4    0 4750    4  100]\n",
            " [  14   57   38   72   16   76   25   54 4269   26]\n",
            " [  15   15   25   51   88   10    1  163   25 4370]]\n",
            "Model: RandomForestClassifier, Split: (0.2, 0.8)\n",
            "Accuracy: 0.952\n",
            "Precision: 0.9516496929845077\n",
            "Recall: 0.9514625244794658\n",
            "F1-score: 0.9514953665173114\n",
            "Confusion Matrix:\n",
            " [[4666    1    6    2    3    9   27    1   32    4]\n",
            " [   1 5271   24   17   10    5    8   10    6    3]\n",
            " [  36   15 4516   25   29    9   28   34   37   13]\n",
            " [  12   13   97 4611    6   78   11   40   62   36]\n",
            " [  10    9   13    1 4478    2   34   13   15  128]\n",
            " [  46   22    8   81   13 4042   56    3   42   42]\n",
            " [  36    8    3    0   13   33 4607    0   11    0]\n",
            " [  13   28   49   11   35    0    0 4776   13   82]\n",
            " [   6   38   47   58   41   48   27    8 4313   61]\n",
            " [  30   15   23   70   87   16    4   64   38 4416]]\n",
            "Model: DecisionTreeClassifier, Split: (0.2, 0.8)\n",
            "Accuracy: 0.8181875\n",
            "Precision: 0.8154954546891557\n",
            "Recall: 0.8158815531798371\n",
            "F1-score: 0.8154422974456029\n",
            "Confusion Matrix:\n",
            " [[4246   27  111   54   30   84   66   37   50   46]\n",
            " [  19 4957   46   68   36   23   45   32  111   18]\n",
            " [ 122  102 3574  196   97  108  181  158  141   63]\n",
            " [  66   65  159 3831   58  225   56  121  224  161]\n",
            " [  30   46   78   39 3826   86   93   61  138  306]\n",
            " [ 135   65   70  215   68 3258  173   47  170  154]\n",
            " [  88   39  135   45   87  141 4043   22   73   38]\n",
            " [  38   59   98   78   65   52   19 4415   41  142]\n",
            " [  76  169  172  247  138  209   99   62 3284  191]\n",
            " [  47   40   61   95  252  122   16  180  111 3839]]\n",
            "Model: KNeighborsClassifier, Split: (0.2, 0.8)\n",
            "Accuracy: 0.917375\n",
            "Precision: 0.9179756924202884\n",
            "Recall: 0.9160912067710608\n",
            "F1-score: 0.916405785465377\n",
            "Confusion Matrix:\n",
            " [[4655    5   15   10    1   19   35    2    5    4]\n",
            " [   1 5298   18    6    7    1   12    7    4    1]\n",
            " [  76   96 4242  104   32   10   63   67   42   10]\n",
            " [  19   25   85 4545   12   94    8   86   57   35]\n",
            " [  16   75   45   10 4277   17   31   20    6  206]\n",
            " [  38   21   13  203   33 3825   97   21   53   51]\n",
            " [  82   10   22    2   14   42 4532    2    4    1]\n",
            " [  12   93   22   19   82    4    1 4519    2  253]\n",
            " [  54  114   38  154   45  223   25   28 3912   54]\n",
            " [  26   26   23   49  149    9    0  233   19 4229]]\n",
            "Model: LogisticRegression, Split: (0.01, 0.99)\n",
            "Accuracy: 0.8364814814814815\n",
            "Precision: 0.8349502110131773\n",
            "Recall: 0.8339046801505221\n",
            "F1-score: 0.833536444128191\n",
            "Confusion Matrix:\n",
            " [[5479    1  160   45   11   97   22    6   32   14]\n",
            " [   2 6464   34   16   12   19   21   16   83    8]\n",
            " [  82  106 4887  165   84   19  151   94  287   20]\n",
            " [  52   83  266 4742   29  373   51   61  322   86]\n",
            " [  47   46  117    5 4925   40  136   21   51  405]\n",
            " [ 127  106  123  357  116 3804  238   31  320  148]\n",
            " [ 171   60  194    7  124   50 5218    4   27    1]\n",
            " [  61  107   83  118  195   41    2 4989   41  568]\n",
            " [  67  225  141  292   75  269   95   16 4465  138]\n",
            " [  63   58  125  136  348   46   17  259  125 4714]]\n",
            "Model: SVC, Split: (0.01, 0.99)\n",
            "Accuracy: 0.8248316498316498\n",
            "Precision: 0.8510519048850329\n",
            "Recall: 0.8224086362390798\n",
            "F1-score: 0.8283480345812411\n",
            "Confusion Matrix:\n",
            " [[5391    1  232   49   10   51   56    1   72    4]\n",
            " [   0 6409   96   29    9   19   14    8   86    5]\n",
            " [  38   59 5352  121   46    4   43   29  197    6]\n",
            " [  20   65  868 4746    5   64   21   38  196   42]\n",
            " [   3   43  515    3 4731   43   59    4   30  362]\n",
            " [  43   42  477  701   43 3688  106   12  140  118]\n",
            " [  81   45  635    5   42   41 4977    0   30    0]\n",
            " [  16  107 1141   51  102    8    1 4454   28  297]\n",
            " [  29  114  419  464   22  224   33   13 4358  107]\n",
            " [  20   53  337   98  180   10    3  218   83 4889]]\n",
            "Model: RandomForestClassifier, Split: (0.01, 0.99)\n",
            "Accuracy: 0.8667003367003367\n",
            "Precision: 0.8704374187534114\n",
            "Recall: 0.8639321318558112\n",
            "F1-score: 0.8648330028059092\n",
            "Confusion Matrix:\n",
            " [[5588    0   15   28    4   32  121    3   74    2]\n",
            " [   0 6538   17   28    8    1   16   15   46    6]\n",
            " [  89  207 4941  133   51   14  181  106  158   15]\n",
            " [  32  128  167 5140   22  101   46   53  292   84]\n",
            " [  15   60   53    9 4876    9  159   32   40  540]\n",
            " [  75   96   25  818   58 3884  182   11   88  133]\n",
            " [  98   69   39    5   97   38 5496    1   13    0]\n",
            " [  72  158  119   55  125   22    2 5344   45  263]\n",
            " [  35  140   83  508   42   91   90   14 4625  155]\n",
            " [  53   70   52  130  192   20   17  180  127 5050]]\n",
            "Model: DecisionTreeClassifier, Split: (0.01, 0.99)\n",
            "Accuracy: 0.6148484848484849\n",
            "Precision: 0.6097880744117099\n",
            "Recall: 0.6105366824091915\n",
            "F1-score: 0.6071897063935945\n",
            "Confusion Matrix:\n",
            " [[4960   15  214   86  152  166   67   44  106   57]\n",
            " [  10 5617  308   45   12  127   63  190  280   23]\n",
            " [ 384  404 3184  416  289  206  318  160  491   43]\n",
            " [ 195  353  454 3125  195  647  227  144  497  228]\n",
            " [ 131   97  246  564 2744  122  388  556  295  650]\n",
            " [ 524  134  356  420  230 2379  505   71  442  309]\n",
            " [ 422  108  360  118  272  232 4081   67  145   51]\n",
            " [ 233  130  589  204  133  225  345 3658  213  475]\n",
            " [ 234  355  468  450  143  360  309  129 3184  151]\n",
            " [ 115   60  398  231  179  200   80  502  536 3590]]\n",
            "Model: KNeighborsClassifier, Split: (0.01, 0.99)\n",
            "Accuracy: 0.7932996632996633\n",
            "Precision: 0.8069705428462746\n",
            "Recall: 0.7888525380311933\n",
            "F1-score: 0.7904326946846961\n",
            "Confusion Matrix:\n",
            " [[5603   19   43   39   11   65   35    2   41    9]\n",
            " [   1 6619   18    3    5    3    8    7    8    3]\n",
            " [ 190  711 4177  316   85   10   67  121  214    4]\n",
            " [ 127  452  154 4801   17  121   14   78  238   63]\n",
            " [  28  350   74    4 4669   41   16   83   11  517]\n",
            " [ 203  356   69  930  126 3202  111   27  195  151]\n",
            " [ 294  233   80   22  120   66 5018    1   20    2]\n",
            " [  20  391   13   91  129    4    0 4941   10  606]\n",
            " [ 138  447  134  539   85  267   38   32 4004   99]\n",
            " [  38  191   65   93  467   13    1  906   29 4088]]\n"
          ]
        }
      ]
    },
    {
      "cell_type": "code",
      "source": [],
      "metadata": {
        "id": "i5not0TJXZPG"
      },
      "execution_count": null,
      "outputs": []
    }
  ]
}